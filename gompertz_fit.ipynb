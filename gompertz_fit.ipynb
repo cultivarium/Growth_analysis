{
 "cells": [
  {
   "cell_type": "markdown",
   "metadata": {},
   "source": [
    "# Testing out different curve fits\n"
   ]
  },
  {
   "cell_type": "code",
   "execution_count": null,
   "metadata": {},
   "outputs": [],
   "source": [
    "# import block\n",
    "# import block\n",
    "import pandas as pd \n",
    "import seaborn as sns\n",
    "import matplotlib.pyplot as plt\n",
    "from matplotlib import cm\n",
    "from tqdm import tqdm\n",
    "import re\n",
    "from matplotlib_venn import venn3\n",
    "import math\n",
    "import sys\n",
    "import multiprocessing as mp\n",
    "from time import time, sleep\n",
    "import openpyxl\n",
    "import statistics\n",
    "from scipy.stats import gompertz\n",
    "from datetime import timedelta, datetime\n",
    "import numpy as np\n",
    "from scipy import stats\n",
    "import tkinter as tk\n",
    "from tkinter import filedialog\n",
    "plt.rcParams['svg.fonttype'] = 'none'"
   ]
  },
  {
   "cell_type": "markdown",
   "metadata": {},
   "source": [
    "Get mock data "
   ]
  },
  {
   "cell_type": "code",
   "execution_count": null,
   "metadata": {},
   "outputs": [],
   "source": []
  }
 ],
 "metadata": {
  "language_info": {
   "name": "python"
  },
  "orig_nbformat": 4
 },
 "nbformat": 4,
 "nbformat_minor": 2
}
